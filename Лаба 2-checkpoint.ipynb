{
 "cells": [
  {
   "cell_type": "code",
   "execution_count": 3,
   "id": "b0d88df9",
   "metadata": {},
   "outputs": [],
   "source": [
    "import numpy as np\n",
    "x = np.random.randn(8)\n",
    "y = np.random.randn(8)\n"
   ]
  },
  {
   "cell_type": "code",
   "execution_count": null,
   "id": "54fd1929",
   "metadata": {},
   "outputs": [],
   "source": []
  },
  {
   "cell_type": "code",
   "execution_count": 2,
   "id": "48792aa2",
   "metadata": {},
   "outputs": [
    {
     "data": {
      "text/plain": [
       "array([-0.62516463,  0.48274696,  0.81794157, -0.327645  , -1.02097573,\n",
       "       -0.69140545,  2.15018281,  2.71832639])"
      ]
     },
     "execution_count": 2,
     "metadata": {},
     "output_type": "execute_result"
    }
   ],
   "source": [
    "x"
   ]
  },
  {
   "cell_type": "code",
   "execution_count": 3,
   "id": "b8b3a8e2",
   "metadata": {},
   "outputs": [
    {
     "data": {
      "text/plain": [
       "array([-2.36961544, -1.09017591, -0.34509935, -0.20556809, -1.75245784,\n",
       "       -2.03137884,  0.23935905, -2.13238907])"
      ]
     },
     "execution_count": 3,
     "metadata": {},
     "output_type": "execute_result"
    }
   ],
   "source": [
    "y"
   ]
  },
  {
   "cell_type": "code",
   "execution_count": 4,
   "id": "064f278a",
   "metadata": {},
   "outputs": [
    {
     "data": {
      "text/plain": [
       "array([-0.62516463,  0.48274696,  0.81794157, -0.20556809, -1.02097573,\n",
       "       -0.69140545,  2.15018281,  2.71832639])"
      ]
     },
     "execution_count": 4,
     "metadata": {},
     "output_type": "execute_result"
    }
   ],
   "source": [
    "np.maximum(x, y)\n"
   ]
  },
  {
   "cell_type": "code",
   "execution_count": null,
   "id": "ec107a51",
   "metadata": {},
   "outputs": [],
   "source": [
    "\n"
   ]
  },
  {
   "cell_type": "code",
   "execution_count": 6,
   "id": "9923a44c",
   "metadata": {},
   "outputs": [
    {
     "data": {
      "text/plain": [
       "array([9.52154646, 1.32791923, 1.71019047, 1.59759118, 2.46840682,\n",
       "       2.23705617, 3.46262468])"
      ]
     },
     "execution_count": 6,
     "metadata": {},
     "output_type": "execute_result"
    }
   ],
   "source": [
    "arr = np.random.randn(7) * 5\n",
    "arr\n"
   ]
  },
  {
   "cell_type": "code",
   "execution_count": 7,
   "id": "7d10942b",
   "metadata": {},
   "outputs": [
    {
     "data": {
      "text/plain": [
       "array([0.52154646, 0.32791923, 0.71019047, 0.59759118, 0.46840682,\n",
       "       0.23705617, 0.46262468])"
      ]
     },
     "execution_count": 7,
     "metadata": {},
     "output_type": "execute_result"
    }
   ],
   "source": [
    "remaider, whole_part = np.modf(arr)\n",
    "remaider"
   ]
  },
  {
   "cell_type": "code",
   "execution_count": 8,
   "id": "62d63c91",
   "metadata": {},
   "outputs": [
    {
     "data": {
      "text/plain": [
       "array([3.08570032, 1.15235378, 1.30774251, 1.26395854, 1.57111642,\n",
       "       1.49567917, 1.86081291])"
      ]
     },
     "execution_count": 8,
     "metadata": {},
     "output_type": "execute_result"
    }
   ],
   "source": [
    "np.sqrt(arr)\n"
   ]
  },
  {
   "cell_type": "code",
   "execution_count": 9,
   "id": "88aa91fc",
   "metadata": {},
   "outputs": [
    {
     "data": {
      "text/plain": [
       "array([3.08570032, 1.15235378, 1.30774251, 1.26395854, 1.57111642,\n",
       "       1.49567917, 1.86081291])"
      ]
     },
     "execution_count": 9,
     "metadata": {},
     "output_type": "execute_result"
    }
   ],
   "source": [
    "np.sqrt(arr, arr)\n"
   ]
  },
  {
   "cell_type": "code",
   "execution_count": 10,
   "id": "32b55c19",
   "metadata": {},
   "outputs": [
    {
     "data": {
      "text/plain": [
       "array([9., 1., 1., 1., 2., 2., 3.])"
      ]
     },
     "execution_count": 10,
     "metadata": {},
     "output_type": "execute_result"
    }
   ],
   "source": [
    "whole_part"
   ]
  },
  {
   "cell_type": "markdown",
   "id": "c314a549",
   "metadata": {},
   "source": [
    "<h1> Exercise 1 </h1>"
   ]
  },
  {
   "cell_type": "markdown",
   "id": "0cb026c3",
   "metadata": {},
   "source": [
    "EXAMPLE 1"
   ]
  },
  {
   "cell_type": "markdown",
   "id": "00e6ad2d",
   "metadata": {},
   "source": [
    "abs(x) - Возвращает абсолютное значение числа x\n",
    "fabs(x) - Возвращает абсолютное значение числа x в виде числа с плавающей запятой.\n",
    "sqrt(x) - Возвращает квадратный корень числа x.\n",
    "square(x) - Возвращает квадрат числа x.\n",
    "exp(x) - Возвращает экспоненту (e в степени x).\n",
    "log(x) - Возвращает натуральный логарифм числа x. \n",
    "log10(x) - Возвращает десятичный логарифм числа x.\n",
    "log2(x) - Возвращает двоичный логарифм числа x.\n",
    "log1p(x) - Возвращает натуральный логарифм (1 + x).\n",
    "sign(x) - Возвращает знак числа x (-1, 0 или 1).\n",
    "ceil(x) - Возвращает наименьшее целое число, которое больше или равно x.\n",
    "floor(x) - Возвращает наибольшее целое число, которое меньше или равно x.\n",
    "rint(x) - Возвращает число, ближайшее к x с округлением до ближайшего целого числа.\n",
    "modf(x) - Возвращает дробную и целую части числа x в виде отдельных значений.\n",
    "isnan(x) - Возвращает True, если x является NaN (Not a Number), и False в противном случае.\n",
    "isfinite(x) - Возвращает True, если x является конечным числом, и False в противном случае.\n",
    "isinf(x) - Возвращает True, если x является бесконечностью, и False в противном случае.\n",
    "cos(x), cosh(x), sin(x), sinh(x), tan(x), tanh(x) - Возвращает тригонометрические функции косинуса, гиперболического косинуса, синуса, гиперболического синуса, тангенса и гиперболического тангенса соответственно.\n",
    "arccos(x), arccosh(x), arcsin(x), arcsinh(x), arctan(x), arctanh(x) - Возвращает обратные тригонометрические функции арккосинуса, гиперболического арккосинуса, арксинуса, гиперболического арксинуса, арктангенса и гиперболического арктангенса соответственно.\n",
    "logical_not(x) - Возвращает логическое отрицание значения x.\n"
   ]
  },
  {
   "cell_type": "code",
   "execution_count": 16,
   "id": "77544644",
   "metadata": {},
   "outputs": [
    {
     "name": "stdout",
     "output_type": "stream",
     "text": [
      "0.7\n",
      "0.7\n",
      "nan\n",
      "0.48999999999999994\n",
      "0.4965853037914095\n",
      "nan\n",
      "nan\n",
      "nan\n",
      "-1.203972804325936\n",
      "-1.0\n",
      "-0.0\n",
      "-1.0\n",
      "-1.0\n",
      "-0.7 -0.0\n",
      "False\n",
      "True\n",
      "False\n",
      "0.7648421872844885\n",
      "1.255169005630943\n",
      "-0.644217687237691\n",
      "-0.7585837018395334\n",
      "-0.8422883804630794\n",
      "-0.6043677771171635\n",
      "2.34619382340565\n",
      "nan\n",
      "-0.775397496610753\n",
      "-0.6526665660823557\n",
      "-0.6107259643892086\n",
      "-0.8673005276940532\n",
      "False\n",
      "---------------------------------------\n",
      "0.7\n",
      "0.7\n",
      "0.8366600265340756\n",
      "0.48999999999999994\n",
      "2.0137527074704766\n",
      "-0.35667494393873245\n",
      "-0.1549019599857432\n",
      "-0.5145731728297583\n",
      "0.5306282510621704\n",
      "1.0\n",
      "1.0\n",
      "0.0\n",
      "1.0\n",
      "0.7 0.0\n",
      "False\n",
      "True\n",
      "False\n",
      "0.7648421872844885\n",
      "1.255169005630943\n",
      "0.644217687237691\n",
      "0.7585837018395334\n",
      "0.8422883804630794\n",
      "0.6043677771171635\n",
      "0.7953988301841436\n",
      "nan\n",
      "0.775397496610753\n",
      "0.6526665660823557\n",
      "0.6107259643892086\n",
      "0.8673005276940532\n",
      "False\n"
     ]
    },
    {
     "name": "stderr",
     "output_type": "stream",
     "text": [
      "C:\\Users\\is64-rootaf\\AppData\\Local\\Temp\\ipykernel_22916\\3539641928.py:4: RuntimeWarning: invalid value encountered in sqrt\n",
      "  print(np.sqrt(x))\n",
      "C:\\Users\\is64-rootaf\\AppData\\Local\\Temp\\ipykernel_22916\\3539641928.py:7: RuntimeWarning: invalid value encountered in log\n",
      "  print(np.log(x))\n",
      "C:\\Users\\is64-rootaf\\AppData\\Local\\Temp\\ipykernel_22916\\3539641928.py:8: RuntimeWarning: invalid value encountered in log10\n",
      "  print(np.log10(x))\n",
      "C:\\Users\\is64-rootaf\\AppData\\Local\\Temp\\ipykernel_22916\\3539641928.py:9: RuntimeWarning: invalid value encountered in log2\n",
      "  print(np.log2(x))\n",
      "C:\\Users\\is64-rootaf\\AppData\\Local\\Temp\\ipykernel_22916\\3539641928.py:27: RuntimeWarning: invalid value encountered in arccosh\n",
      "  print(np.arccosh(x))\n"
     ]
    }
   ],
   "source": [
    "def actions(x):\n",
    "    print(abs(x))\n",
    "    print(np.fabs(x))\n",
    "    print(np.sqrt(x))\n",
    "    print(np.square(x))\n",
    "    print(np.exp(x))\n",
    "    print(np.log(x))\n",
    "    print(np.log10(x))\n",
    "    print(np.log2(x))\n",
    "    print(np.log1p(x))\n",
    "    print(np.sign(x))\n",
    "    print(np.ceil(x))\n",
    "    print(np.floor(x))\n",
    "    print(np.rint(x))\n",
    "    fractional, integer = np.modf(x)\n",
    "    print(fractional, integer)\n",
    "    print(np.isnan(x))\n",
    "    print(np.isfinite(x))\n",
    "    print(np.isinf(x))\n",
    "    print(np.cos(x))\n",
    "    print(np.cosh(x))\n",
    "    print(np.sin(x))\n",
    "    print(np.sinh(x))\n",
    "    print(np.tan(x))\n",
    "    print(np.tanh(x))\n",
    "    print(np.arccos(x))\n",
    "    print(np.arccosh(x))\n",
    "    print(np.arcsin(x))\n",
    "    print(np.arcsinh(x))\n",
    "    print(np.arctan(x))\n",
    "    print(np.arctanh(x))\n",
    "    print(np.logical_not(x))\n",
    "\n",
    "    \n",
    "\n",
    "\n",
    "    \n",
    "hehe = actions(-0.7)\n",
    "hehe\n",
    "print('---------------------------------------')\n",
    "nehehe = actions(0.7)\n",
    "nehehe\n",
    "    \n",
    "    "
   ]
  },
  {
   "cell_type": "markdown",
   "id": "d33b2562",
   "metadata": {},
   "source": [
    "EXAMPLE 2"
   ]
  },
  {
   "cell_type": "markdown",
   "id": "38226cc8",
   "metadata": {},
   "source": [
    "add(x, y) - Возвращает сумму x и y\n",
    "subtract(x, y) - Возвращает разность x и y.\n",
    "multiply(x, y) - Возвращает произведение x и y.\n",
    "divide(x, y) - Возвращает частное от деления x на y.\n",
    "floor_divide(x, y) - Возвращает целую часть от деления x на y.\n",
    "power(x, y) - Возвращает x в степени y.\n",
    "maximum(x, y) - Возвращает максимальное значение из x и y\n",
    "fmax(x, y) - Возвращает максимальное значение из x и y в виде числа с плавающей запятой.\n",
    "minimum(x, y) - Возвращает минимальное значение из x и y.\n",
    "fmin(x, y) - Возвращает минимальное значение из x и y в виде числа с плавающей запятой.\n",
    "mod(x, y) - Возвращает остаток от деления x на y.\n",
    "copysign(x, y) - Возвращает значение x с сохранением знака значения y. \n",
    "greater(x, y), greater_equal(x, y), less(x, y), less_equal(x, y), equal(x, y), not_equal(x, y) - Возвращает логическое значение True или False в зависимости от результата сравнения x и y.\n",
    "logical_and(x, y), logical_or(x, y), logical_xor(x, y) - Возвращает логическое значение True или False в зависимости от логической операции между x и y. "
   ]
  },
  {
   "cell_type": "code",
   "execution_count": 22,
   "id": "a95b017c",
   "metadata": {},
   "outputs": [
    {
     "name": "stdout",
     "output_type": "stream",
     "text": [
      "3\n",
      "-1\n",
      "2\n",
      "0.5\n",
      "0\n",
      "1\n",
      "2\n",
      "2\n",
      "1\n",
      "1\n",
      "1\n",
      "1.0\n",
      "False\n",
      "True\n",
      "False\n",
      "True\n",
      "False\n",
      "True\n",
      "True\n",
      "True\n",
      "False\n"
     ]
    }
   ],
   "source": [
    "def exl(x, y):\n",
    "    print(np.add(x, y))\n",
    "    print(np.subtract(x, y))\n",
    "    print(np.multiply(x, y) )\n",
    "    print(np.divide(x, y))\n",
    "    print(np.floor_divide(x, y))\n",
    "    print(np.power(x, y))\n",
    "    print(np.maximum(x, y))\n",
    "    print(np.fmax(x, y))\n",
    "    print(np.minimum(x, y))\n",
    "    print(np.fmin(x, y))\n",
    "    print(np.mod(x, y))\n",
    "    print(np.copysign(x, y))\n",
    "    print(np.greater(x, y))\n",
    "    print(np.less(x, y))\n",
    "    print(np.greater_equal(x, y))\n",
    "    print(np.less_equal(x, y))\n",
    "    print(np.equal(x, y))\n",
    "    print(np.not_equal(x, y))\n",
    "    print(np.logical_and(x, y))\n",
    "    print(np.logical_or(x, y))\n",
    "    print(np.logical_xor(x, y))\n",
    "\n",
    "    \n",
    "exl = exl(1,2)\n",
    "exl\n",
    "    \n",
    "    "
   ]
  },
  {
   "cell_type": "code",
   "execution_count": 4,
   "id": "5bda9616",
   "metadata": {},
   "outputs": [],
   "source": [
    "xarr = np.array([1.1, 1.2, 1.3, 1.4, 1.5])\n",
    "yarr = np.array([2.1, 2.2, 2.3, 2.4, 2.5])\n",
    "cond = np.array([True, False, True, True, False])"
   ]
  },
  {
   "cell_type": "code",
   "execution_count": 5,
   "id": "76c0f254",
   "metadata": {},
   "outputs": [
    {
     "data": {
      "text/plain": [
       "[1.1, 2.2, 1.3, 1.4, 2.5]"
      ]
     },
     "execution_count": 5,
     "metadata": {},
     "output_type": "execute_result"
    }
   ],
   "source": [
    "result = [(x if c else y)\n",
    "for x, y, c in zip(xarr, yarr, cond)]\n",
    "result"
   ]
  },
  {
   "cell_type": "code",
   "execution_count": 7,
   "id": "6ceaf3c1",
   "metadata": {},
   "outputs": [
    {
     "data": {
      "text/plain": [
       "[1.1, 2.2, 1.3, 1.4, 2.5]"
      ]
     },
     "execution_count": 7,
     "metadata": {},
     "output_type": "execute_result"
    }
   ],
   "source": [
    "result = [(x if c else y)\n",
    "for x, y, c in zip(xarr, yarr, cond)]\n",
    "result"
   ]
  },
  {
   "cell_type": "code",
   "execution_count": 6,
   "id": "65231307",
   "metadata": {},
   "outputs": [
    {
     "data": {
      "text/plain": [
       "array([1.1, 2.2, 1.3, 1.4, 2.5])"
      ]
     },
     "execution_count": 6,
     "metadata": {},
     "output_type": "execute_result"
    }
   ],
   "source": [
    "result = np.where(cond, xarr, yarr)\n",
    "result"
   ]
  },
  {
   "cell_type": "code",
   "execution_count": 8,
   "id": "3b457e58",
   "metadata": {},
   "outputs": [
    {
     "data": {
      "text/plain": [
       "array([[ 2,  2,  2, -2],\n",
       "       [-2,  2, -2, -2],\n",
       "       [ 2, -2,  2, -2],\n",
       "       [ 2, -2,  2, -2]])"
      ]
     },
     "execution_count": 8,
     "metadata": {},
     "output_type": "execute_result"
    }
   ],
   "source": [
    "arr = np.random.randn(4, 4)\n",
    "arr\n",
    "arr > 0\n",
    "np.where(arr > 0, 2, -2)"
   ]
  },
  {
   "cell_type": "code",
   "execution_count": 9,
   "id": "ab0acfb6",
   "metadata": {},
   "outputs": [
    {
     "data": {
      "text/plain": [
       "array([[ 2.        ,  2.        ,  2.        , -0.83519794],\n",
       "       [-1.66811164,  2.        , -0.77626431, -1.69900784],\n",
       "       [ 2.        , -0.43846575,  2.        , -0.21285559],\n",
       "       [ 2.        , -0.06614305,  2.        , -0.66011249]])"
      ]
     },
     "execution_count": 9,
     "metadata": {},
     "output_type": "execute_result"
    }
   ],
   "source": [
    "np.where(arr > 0, 2, arr)"
   ]
  },
  {
   "cell_type": "code",
   "execution_count": 10,
   "id": "21bceac5",
   "metadata": {},
   "outputs": [
    {
     "data": {
      "text/plain": [
       "array([[-1.1644786 , -1.92403815, -0.03151506,  0.12870404],\n",
       "       [-1.61606318, -0.05331905,  0.59187881, -0.44138506],\n",
       "       [-1.19913266, -0.30017918,  0.21129387, -0.19455231],\n",
       "       [ 0.5466633 ,  1.08508986,  1.14022834, -0.31057016],\n",
       "       [-0.71329644, -0.15695868,  1.34706181, -0.25050872]])"
      ]
     },
     "execution_count": 10,
     "metadata": {},
     "output_type": "execute_result"
    }
   ],
   "source": [
    "arr = np.random.randn(5, 4)\n",
    "arr"
   ]
  },
  {
   "cell_type": "code",
   "execution_count": 11,
   "id": "e7e548b5",
   "metadata": {},
   "outputs": [
    {
     "data": {
      "text/plain": [
       "-0.16525386084845198"
      ]
     },
     "execution_count": 11,
     "metadata": {},
     "output_type": "execute_result"
    }
   ],
   "source": [
    "arr.mean()"
   ]
  },
  {
   "cell_type": "code",
   "execution_count": 12,
   "id": "1102a88f",
   "metadata": {},
   "outputs": [
    {
     "data": {
      "text/plain": [
       "-3.3050772169690394"
      ]
     },
     "execution_count": 12,
     "metadata": {},
     "output_type": "execute_result"
    }
   ],
   "source": [
    "arr.sum()"
   ]
  },
  {
   "cell_type": "code",
   "execution_count": 13,
   "id": "7c0c16d6",
   "metadata": {},
   "outputs": [
    {
     "data": {
      "text/plain": [
       "array([-0.74783194, -0.37972212, -0.37064257,  0.61535283,  0.05657449])"
      ]
     },
     "execution_count": 13,
     "metadata": {},
     "output_type": "execute_result"
    }
   ],
   "source": [
    "arr.mean(axis=1)"
   ]
  },
  {
   "cell_type": "code",
   "execution_count": 14,
   "id": "b68b891e",
   "metadata": {},
   "outputs": [
    {
     "data": {
      "text/plain": [
       "array([-4.14630759, -1.3494052 ,  3.25894777, -1.0683122 ])"
      ]
     },
     "execution_count": 14,
     "metadata": {},
     "output_type": "execute_result"
    }
   ],
   "source": [
    "arr.sum(axis=0)"
   ]
  },
  {
   "cell_type": "code",
   "execution_count": 15,
   "id": "d3c32131",
   "metadata": {},
   "outputs": [
    {
     "data": {
      "text/plain": [
       "array([ 1,  3,  6, 10, 15, 21, 28])"
      ]
     },
     "execution_count": 15,
     "metadata": {},
     "output_type": "execute_result"
    }
   ],
   "source": [
    "arr = np.array([1, 2, 3, 4, 5, 6, 7])\n",
    "arr.cumsum()"
   ]
  },
  {
   "cell_type": "code",
   "execution_count": 16,
   "id": "318c771a",
   "metadata": {},
   "outputs": [
    {
     "data": {
      "text/plain": [
       "array([[1, 2, 3],\n",
       "       [4, 5, 6],\n",
       "       [7, 8, 9]])"
      ]
     },
     "execution_count": 16,
     "metadata": {},
     "output_type": "execute_result"
    }
   ],
   "source": [
    "arr = np.array([[1, 2, 3], [4, 5, 6], [7, 8, 9]])\n",
    "arr"
   ]
  },
  {
   "cell_type": "code",
   "execution_count": 17,
   "id": "e59a601e",
   "metadata": {},
   "outputs": [
    {
     "data": {
      "text/plain": [
       "array([[ 1,  2,  3],\n",
       "       [ 5,  7,  9],\n",
       "       [12, 15, 18]])"
      ]
     },
     "execution_count": 17,
     "metadata": {},
     "output_type": "execute_result"
    }
   ],
   "source": [
    "arr.cumsum(axis=0)"
   ]
  },
  {
   "cell_type": "code",
   "execution_count": 18,
   "id": "a752c0ce",
   "metadata": {},
   "outputs": [
    {
     "data": {
      "text/plain": [
       "array([[  1,   2,   6],\n",
       "       [  4,  20, 120],\n",
       "       [  7,  56, 504]])"
      ]
     },
     "execution_count": 18,
     "metadata": {},
     "output_type": "execute_result"
    }
   ],
   "source": [
    "arr.cumprod(axis=1)"
   ]
  },
  {
   "cell_type": "markdown",
   "id": "2961d0ba",
   "metadata": {},
   "source": [
    "EXAMPLE 3"
   ]
  },
  {
   "cell_type": "markdown",
   "id": "c7f07373",
   "metadata": {},
   "source": [
    "Метод sum используется для вычисления суммы элементов массива.\n",
    "Метод mean вычисляет среднее значение элементов массива.\n",
    "Методы std и var используются для вычисления стандартного отклонения и дисперсии соответственно.\n",
    "Методы min и max возвращают минимальный и максимальный элементы массива соответственно.\n",
    "Методы argmin и argmax возвращают индексы минимального и максимального элементов массива соответственно.\n",
    "Метод cumsum возвращает массив, содержащий накопленные суммы элементов исходного массива.\n",
    "Метод cumprod возвращает массив, содержащий накопленные произведения элементов исходного массива."
   ]
  },
  {
   "cell_type": "code",
   "execution_count": 23,
   "id": "cd1d7dbc",
   "metadata": {},
   "outputs": [
    {
     "name": "stdout",
     "output_type": "stream",
     "text": [
      "15\n",
      "3.0\n",
      "1.4142135623730951\n",
      "2.0\n",
      "1\n",
      "5\n",
      "0\n",
      "4\n",
      "[ 1  3  6 10 15]\n",
      "[  1   2   6  24 120]\n"
     ]
    }
   ],
   "source": [
    "def method(arr):\n",
    "    print(np.sum(arr))\n",
    "    print(np.mean(arr))\n",
    "    print(np.std(arr))\n",
    "    print(np.var(arr))\n",
    "    print(np.min(arr))\n",
    "    print(np.max(arr))\n",
    "    print(np.argmin(arr))\n",
    "    print(np.argmax(arr))\n",
    "    print(np.cumsum(arr))\n",
    "    print(np.cumprod(arr))\n",
    "\n",
    "arr = np.array([1, 2, 3, 4, 5])\n",
    "\n",
    "method(arr)"
   ]
  },
  {
   "cell_type": "code",
   "execution_count": 24,
   "id": "3fc7678c",
   "metadata": {},
   "outputs": [
    {
     "data": {
      "text/plain": [
       "49"
      ]
     },
     "execution_count": 24,
     "metadata": {},
     "output_type": "execute_result"
    }
   ],
   "source": [
    "arr = np.random.randn(100)\n",
    "(arr > 0).sum() # количество положительных значений"
   ]
  },
  {
   "cell_type": "code",
   "execution_count": 25,
   "id": "570596fe",
   "metadata": {},
   "outputs": [
    {
     "data": {
      "text/plain": [
       "True"
      ]
     },
     "execution_count": 25,
     "metadata": {},
     "output_type": "execute_result"
    }
   ],
   "source": [
    "bools = np.array([False, False, True, False])\n",
    "bools.any()"
   ]
  },
  {
   "cell_type": "code",
   "execution_count": 26,
   "id": "681aa3bd",
   "metadata": {},
   "outputs": [
    {
     "data": {
      "text/plain": [
       "False"
      ]
     },
     "execution_count": 26,
     "metadata": {},
     "output_type": "execute_result"
    }
   ],
   "source": [
    "bools.all()"
   ]
  },
  {
   "cell_type": "code",
   "execution_count": 27,
   "id": "9709231e",
   "metadata": {},
   "outputs": [
    {
     "data": {
      "text/plain": [
       "array([-1.12709285,  0.25246065, -0.12402498,  0.24590949,  0.52858835,\n",
       "        0.05752248])"
      ]
     },
     "execution_count": 27,
     "metadata": {},
     "output_type": "execute_result"
    }
   ],
   "source": [
    "arr = np.random.randn(6)\n",
    "arr"
   ]
  },
  {
   "cell_type": "code",
   "execution_count": 28,
   "id": "00cd5ab6",
   "metadata": {},
   "outputs": [
    {
     "data": {
      "text/plain": [
       "array([-1.12709285, -0.12402498,  0.05752248,  0.24590949,  0.25246065,\n",
       "        0.52858835])"
      ]
     },
     "execution_count": 28,
     "metadata": {},
     "output_type": "execute_result"
    }
   ],
   "source": [
    "arr.sort()\n",
    "arr"
   ]
  },
  {
   "cell_type": "code",
   "execution_count": 29,
   "id": "d75ef49b",
   "metadata": {},
   "outputs": [
    {
     "data": {
      "text/plain": [
       "array([[ 0.07274934, -0.26009242, -0.85739416],\n",
       "       [ 0.76808759,  0.6315502 ,  1.67004406],\n",
       "       [ 1.25121033,  0.03422889, -1.00067871],\n",
       "       [-0.90086739, -1.52225346,  1.17213844],\n",
       "       [ 0.45431585,  1.81484934,  0.20938308]])"
      ]
     },
     "execution_count": 29,
     "metadata": {},
     "output_type": "execute_result"
    }
   ],
   "source": [
    "arr = np.random.randn(5, 3)\n",
    "arr"
   ]
  },
  {
   "cell_type": "code",
   "execution_count": 30,
   "id": "09d16254",
   "metadata": {},
   "outputs": [
    {
     "data": {
      "text/plain": [
       "array([[-0.85739416, -0.26009242,  0.07274934],\n",
       "       [ 0.6315502 ,  0.76808759,  1.67004406],\n",
       "       [-1.00067871,  0.03422889,  1.25121033],\n",
       "       [-1.52225346, -0.90086739,  1.17213844],\n",
       "       [ 0.20938308,  0.45431585,  1.81484934]])"
      ]
     },
     "execution_count": 30,
     "metadata": {},
     "output_type": "execute_result"
    }
   ],
   "source": [
    "arr.sort(1)\n",
    "arr"
   ]
  },
  {
   "cell_type": "code",
   "execution_count": 31,
   "id": "ba66a19c",
   "metadata": {},
   "outputs": [
    {
     "data": {
      "text/plain": [
       "-1.570810344365046"
      ]
     },
     "execution_count": 31,
     "metadata": {},
     "output_type": "execute_result"
    }
   ],
   "source": [
    "large_arr = np.random.randn(1000)\n",
    "large_arr.sort()\n",
    "large_arr[int(0.05 * len(large_arr))] # 5%ый квантиль"
   ]
  },
  {
   "cell_type": "code",
   "execution_count": 32,
   "id": "3c8f98e9",
   "metadata": {},
   "outputs": [
    {
     "data": {
      "text/plain": [
       "array(['Bob', 'Joe', 'Will'], dtype='<U4')"
      ]
     },
     "execution_count": 32,
     "metadata": {},
     "output_type": "execute_result"
    }
   ],
   "source": [
    "names = np.array(['Bob', 'Joe', 'Will', 'Bob',\n",
    "'Will', 'Joe', 'Joe'])\n",
    "np.unique(names)"
   ]
  },
  {
   "cell_type": "code",
   "execution_count": 33,
   "id": "7026f3a5",
   "metadata": {},
   "outputs": [
    {
     "data": {
      "text/plain": [
       "array([1, 2, 3, 4])"
      ]
     },
     "execution_count": 33,
     "metadata": {},
     "output_type": "execute_result"
    }
   ],
   "source": [
    "ints = np.array([3, 3, 3, 2, 2, 1, 1, 4 ,4])\n",
    "np.unique(ints)"
   ]
  },
  {
   "cell_type": "code",
   "execution_count": 34,
   "id": "212b1b21",
   "metadata": {},
   "outputs": [
    {
     "data": {
      "text/plain": [
       "['Bob', 'Joe', 'Will']"
      ]
     },
     "execution_count": 34,
     "metadata": {},
     "output_type": "execute_result"
    }
   ],
   "source": [
    "sorted(set(names))"
   ]
  },
  {
   "cell_type": "code",
   "execution_count": 35,
   "id": "173be192",
   "metadata": {},
   "outputs": [
    {
     "data": {
      "text/plain": [
       "array([ True, False, False,  True,  True, False,  True])"
      ]
     },
     "execution_count": 35,
     "metadata": {},
     "output_type": "execute_result"
    }
   ],
   "source": [
    "values = np.array([6, 0, 0, 3, 2, 5, 6])\n",
    "np.in1d(values, [2, 3, 6])"
   ]
  },
  {
   "cell_type": "markdown",
   "id": "22590d35",
   "metadata": {},
   "source": [
    "EXAMPLE 4"
   ]
  },
  {
   "cell_type": "markdown",
   "id": "1c69e931",
   "metadata": {},
   "source": [
    "Функция unique возвращает уникальные элементы массива в отсортированном порядке.\n",
    "Функция intersect1d возвращает уникальные элементы, которые присутствуют в обоих массивах x и y.\n",
    "Функция union1d возвращает уникальные элементы из объединения массивов x и y.\n",
    "Функция in1d возвращает булев массив той же формы, что и x, указывающий, содержится ли каждый элемент x в массиве y.\n",
    "Функция setdiff1d возвращает уникальные элементы, которые присутствуют в массиве x, но отсутствуют в массиве y.\n",
    "Функция setxor1d возвращает уникальные элементы, которые присутствуют в одном из массивов, но не в обоих."
   ]
  },
  {
   "cell_type": "code",
   "execution_count": 36,
   "id": "e7a07776",
   "metadata": {},
   "outputs": [
    {
     "name": "stdout",
     "output_type": "stream",
     "text": [
      "[1 2 3 4 5]\n",
      "[2 3 4 5]\n",
      "[1 2 3 4 5 6]\n",
      "[False  True  True  True  True]\n",
      "[1]\n",
      "[1 6]\n"
     ]
    }
   ],
   "source": [
    "def function(x, y):\n",
    "    print(np.unique(x))\n",
    "    print(np.intersect1d(x, y))\n",
    "    print(np.union1d(x, y))\n",
    "    print(np.in1d(x, y))\n",
    "    print(np.setdiff1d(x, y))\n",
    "    print(np.setxor1d(x, y))\n",
    "\n",
    "x = np.array([1, 2, 3, 4, 5])\n",
    "y = np.array([2, 3, 4, 5, 6])\n",
    "\n",
    "function(x, y)"
   ]
  },
  {
   "cell_type": "code",
   "execution_count": 37,
   "id": "b2e2142c",
   "metadata": {},
   "outputs": [],
   "source": [
    "arr = np.arange(10)\n",
    "np.save('some_array', arr)"
   ]
  },
  {
   "cell_type": "code",
   "execution_count": 38,
   "id": "43b7b9df",
   "metadata": {},
   "outputs": [
    {
     "data": {
      "text/plain": [
       "array([0, 1, 2, 3, 4, 5, 6, 7, 8, 9])"
      ]
     },
     "execution_count": 38,
     "metadata": {},
     "output_type": "execute_result"
    }
   ],
   "source": [
    "np.load('some_array.npy')"
   ]
  },
  {
   "cell_type": "code",
   "execution_count": 39,
   "id": "921487cb",
   "metadata": {},
   "outputs": [],
   "source": [
    "np.savez('array_archive.npz', a=arr, b=arr)"
   ]
  },
  {
   "cell_type": "code",
   "execution_count": 40,
   "id": "e10b1ec6",
   "metadata": {},
   "outputs": [
    {
     "data": {
      "text/plain": [
       "array([0, 1, 2, 3, 4, 5, 6, 7, 8, 9])"
      ]
     },
     "execution_count": 40,
     "metadata": {},
     "output_type": "execute_result"
    }
   ],
   "source": [
    "arch = np.load('array_archive.npz')\n",
    "arch['b']"
   ]
  },
  {
   "cell_type": "code",
   "execution_count": 41,
   "id": "d6de4a8a",
   "metadata": {},
   "outputs": [],
   "source": [
    "np.savez_compressed('arrays_compressed.npz', a=arr, b=arr)"
   ]
  },
  {
   "cell_type": "code",
   "execution_count": 42,
   "id": "6b49020e",
   "metadata": {},
   "outputs": [
    {
     "data": {
      "text/plain": [
       "array([[1., 2., 3.],\n",
       "       [4., 5., 6.]])"
      ]
     },
     "execution_count": 42,
     "metadata": {},
     "output_type": "execute_result"
    }
   ],
   "source": [
    "x = np.array([[1., 2., 3.], [4., 5., 6.]])\n",
    "y = np.array([[6., 23.], [-1, 7], [8, 9]])\n",
    "x"
   ]
  },
  {
   "cell_type": "code",
   "execution_count": 43,
   "id": "fd358b44",
   "metadata": {},
   "outputs": [
    {
     "data": {
      "text/plain": [
       "array([[ 6., 23.],\n",
       "       [-1.,  7.],\n",
       "       [ 8.,  9.]])"
      ]
     },
     "execution_count": 43,
     "metadata": {},
     "output_type": "execute_result"
    }
   ],
   "source": [
    "y"
   ]
  },
  {
   "cell_type": "code",
   "execution_count": 44,
   "id": "618e545c",
   "metadata": {},
   "outputs": [
    {
     "data": {
      "text/plain": [
       "array([[ 28.,  64.],\n",
       "       [ 67., 181.]])"
      ]
     },
     "execution_count": 44,
     "metadata": {},
     "output_type": "execute_result"
    }
   ],
   "source": [
    "x.dot(y)"
   ]
  },
  {
   "cell_type": "code",
   "execution_count": 45,
   "id": "7110bd24",
   "metadata": {},
   "outputs": [
    {
     "data": {
      "text/plain": [
       "array([[ 28.,  64.],\n",
       "       [ 67., 181.]])"
      ]
     },
     "execution_count": 45,
     "metadata": {},
     "output_type": "execute_result"
    }
   ],
   "source": [
    "np.dot(x, y)"
   ]
  },
  {
   "cell_type": "code",
   "execution_count": 46,
   "id": "0f7226cb",
   "metadata": {},
   "outputs": [
    {
     "data": {
      "text/plain": [
       "array([ 6., 15.])"
      ]
     },
     "execution_count": 46,
     "metadata": {},
     "output_type": "execute_result"
    }
   ],
   "source": [
    "np.dot(x, np.ones(3))"
   ]
  },
  {
   "cell_type": "code",
   "execution_count": 47,
   "id": "24feecc3",
   "metadata": {},
   "outputs": [
    {
     "data": {
      "text/plain": [
       "array([ 6., 15.])"
      ]
     },
     "execution_count": 47,
     "metadata": {},
     "output_type": "execute_result"
    }
   ],
   "source": [
    "x @ np.ones(3)"
   ]
  },
  {
   "cell_type": "code",
   "execution_count": 49,
   "id": "fbabd4e4",
   "metadata": {},
   "outputs": [
    {
     "data": {
      "text/plain": [
       "array([[ 2.0067838 , -0.23358292, -1.7660601 ,  2.81425053,  0.28199266],\n",
       "       [-0.23358292,  1.1089037 ,  2.27767069, -1.35338867,  1.17847172],\n",
       "       [-1.7660601 ,  2.27767069,  6.45446093, -4.63959111,  2.55823679],\n",
       "       [ 2.81425053, -1.35338867, -4.63959111,  5.46324423, -0.77915793],\n",
       "       [ 0.28199266,  1.17847172,  2.55823679, -0.77915793,  1.85416747]])"
      ]
     },
     "execution_count": 49,
     "metadata": {},
     "output_type": "execute_result"
    }
   ],
   "source": [
    "from numpy.linalg import inv, qr\n",
    "X = np.random.randn(5, 5)\n",
    "mat = X.T.dot(X)\n",
    "inv(mat)"
   ]
  },
  {
   "cell_type": "code",
   "execution_count": 50,
   "id": "daa2e0cf",
   "metadata": {},
   "outputs": [
    {
     "data": {
      "text/plain": [
       "array([[ 1.00000000e+00, -2.98075670e-17, -4.51968685e-16,\n",
       "        -4.70844929e-16, -2.76949667e-16],\n",
       "       [ 7.53035709e-18,  1.00000000e+00, -2.35484532e-15,\n",
       "         2.34487416e-15, -1.44323853e-15],\n",
       "       [ 5.45558635e-16,  1.03704892e-15,  1.00000000e+00,\n",
       "         2.14370571e-16,  9.36073707e-16],\n",
       "       [-1.21438939e-15,  9.59834880e-16,  1.26280268e-15,\n",
       "         1.00000000e+00,  8.26031940e-16],\n",
       "       [-8.00564092e-16, -6.89025193e-17,  8.33393537e-16,\n",
       "        -1.40598960e-17,  1.00000000e+00]])"
      ]
     },
     "execution_count": 50,
     "metadata": {},
     "output_type": "execute_result"
    }
   ],
   "source": [
    "mat.dot(inv(mat))"
   ]
  },
  {
   "cell_type": "code",
   "execution_count": 51,
   "id": "cbb3fe0a",
   "metadata": {},
   "outputs": [
    {
     "data": {
      "text/plain": [
       "array([[-6.03839757,  3.75590254, -3.02151588,  2.0721251 ,  3.77323837],\n",
       "       [ 0.        , -5.12654691, -0.39162585, -1.09023628,  3.59991202],\n",
       "       [ 0.        ,  0.        , -3.33951407, -2.38687333,  3.85674736],\n",
       "       [ 0.        ,  0.        ,  0.        , -0.17215965, -0.26230936],\n",
       "       [ 0.        ,  0.        ,  0.        ,  0.        ,  0.28798104]])"
      ]
     },
     "execution_count": 51,
     "metadata": {},
     "output_type": "execute_result"
    }
   ],
   "source": [
    "q, r = qr(mat)\n",
    "r"
   ]
  },
  {
   "cell_type": "code",
   "execution_count": 52,
   "id": "28cb2cb7",
   "metadata": {},
   "outputs": [
    {
     "data": {
      "text/plain": [
       "array([[-0.96406405,  0.51493251,  1.92551116,  0.73317595],\n",
       "       [-1.59705775, -0.01175157, -0.87568178, -0.04004022],\n",
       "       [ 0.03405313, -0.94297102, -0.33954284, -0.34819066],\n",
       "       [ 0.40406007, -1.10418782,  0.01319178, -1.66610279]])"
      ]
     },
     "execution_count": 52,
     "metadata": {},
     "output_type": "execute_result"
    }
   ],
   "source": [
    "samples = np.random.normal(size=(4, 4))\n",
    "samples"
   ]
  },
  {
   "cell_type": "code",
   "execution_count": 53,
   "id": "d81d2ba2",
   "metadata": {},
   "outputs": [
    {
     "name": "stdout",
     "output_type": "stream",
     "text": [
      "655 ms ± 10.1 ms per loop (mean ± std. dev. of 7 runs, 1 loop each)\n"
     ]
    }
   ],
   "source": [
    "from random import normalvariate\n",
    "N = 1000000\n",
    "%timeit samples = [normalvariate(0, 1) for _ in range(N)]"
   ]
  },
  {
   "cell_type": "code",
   "execution_count": 54,
   "id": "1072435b",
   "metadata": {},
   "outputs": [
    {
     "name": "stdout",
     "output_type": "stream",
     "text": [
      "25.2 ms ± 638 µs per loop (mean ± std. dev. of 7 runs, 10 loops each)\n"
     ]
    }
   ],
   "source": [
    "%timeit np.random.normal(size=N)"
   ]
  },
  {
   "cell_type": "code",
   "execution_count": 55,
   "id": "98f5bc12",
   "metadata": {},
   "outputs": [],
   "source": [
    "np.random.seed(1234)"
   ]
  },
  {
   "cell_type": "code",
   "execution_count": 56,
   "id": "2f88ae65",
   "metadata": {},
   "outputs": [
    {
     "data": {
      "text/plain": [
       "array([ 0.47143516, -1.19097569,  1.43270697, -0.3126519 , -0.72058873,\n",
       "        0.88716294,  0.85958841, -0.6365235 ,  0.01569637, -2.24268495])"
      ]
     },
     "execution_count": 56,
     "metadata": {},
     "output_type": "execute_result"
    }
   ],
   "source": [
    "rng = np.random.RandomState(1234)\n",
    "rng.randn(10)"
   ]
  },
  {
   "cell_type": "code",
   "execution_count": null,
   "id": "4c1dc1c1",
   "metadata": {},
   "outputs": [],
   "source": []
  }
 ],
 "metadata": {
  "kernelspec": {
   "display_name": "Python 3 (ipykernel)",
   "language": "python",
   "name": "python3"
  },
  "language_info": {
   "codemirror_mode": {
    "name": "ipython",
    "version": 3
   },
   "file_extension": ".py",
   "mimetype": "text/x-python",
   "name": "python",
   "nbconvert_exporter": "python",
   "pygments_lexer": "ipython3",
   "version": "3.11.7"
  }
 },
 "nbformat": 4,
 "nbformat_minor": 5
}
